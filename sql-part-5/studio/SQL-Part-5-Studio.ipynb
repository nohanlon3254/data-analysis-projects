{
 "cells": [
  {
   "cell_type": "markdown",
   "metadata": {},
   "source": [
    "# SQL Part 5 Studio:  A Library Service\n",
    "\n",
    "## Setting Up Your Data\n",
    "\n",
    "You will be creating 5 new tables within your own schema.\n",
    "\n",
    "4 of the tables can be populated using the starter code which can be found in the `data` folder.\n",
    "\n",
    "After setting up the data you should have the following five tables:\n",
    "\n",
    "1. `book`\n",
    "2. `author`\n",
    "3. `patron`\n",
    "4. `genre`\n",
    "5. `loan`"
   ]
  },
  {
   "cell_type": "markdown",
   "metadata": {},
   "source": [
    "## **Part A: Setting Up Your Tables**\n",
    "\n",
    "### **Book Table**\n",
    "\n",
    "To create the **book** table, you can use the following SQL query:\n",
    "\n",
    "```\n",
    "CREATE TABLE [DB].[schema].book (\n",
    "    book_id INT IDENTITY(1,1) PRIMARY KEY,\n",
    "    author_id INT,\n",
    "    title VARCHAR(255),\n",
    "    isbn INT,\n",
    "    available BIT,\n",
    "    genre_id INT\n",
    ");\n",
    "```\n",
    "\n",
    "_A few notes on this syntax:_\n",
    "\n",
    "> On Auto-incrementing:\n",
    "> We are going to have SQL help us assign book\\\\_id numbers using auto-incrementing using the **IDENTITY** property.\n",
    "> The [IDENTITY](https://docs.microsoft.com/en-us/sql/t-sql/statements/create-table-transact-sql-identity-property?view=sql-server-ver15) syntax is as follows: **IDENTITY(seed, increment)**.  We want to seed the first id number as 1 in this table and increment by 1 for each following book\\\\_id.\n",
    "> On BIT datatypes:\n",
    "> For the **available** column, we are going to use the [BIT datatype](https://docs.microsoft.com/en-us/sql/t-sql/data-types/bit-transact-sql?view=sql-server-ver15) to represent True or False values.  Bit allows three entries: 0 which will stand for false,  1 which will stand for true,  and NULL.\n",
    "> On CREATE TABLES:\n",
    "> You may only create a table once.  You may comment out your creation query once you run it."
   ]
  },
  {
   "cell_type": "code",
   "execution_count": null,
   "metadata": {
    "vscode": {
     "languageId": "sql"
    }
   },
   "outputs": [],
   "source": [
    "CREATE table Sep2025JunkDB.nick_ohanlon.book\n",
    "(book_id INT IDENTITY(1,1) PRIMARY KEY,\n",
    "    author_id INT,\n",
    "    title VARCHAR(255),\n",
    "    isbn INT,\n",
    "    available BIT,\n",
    "    genre_id INT\n",
    ");"
   ]
  },
  {
   "cell_type": "markdown",
   "metadata": {},
   "source": [
    "### Populate the **book** table\n",
    "\n",
    "For the starter data, use the `book_data.ipynb` notebook.\n",
    "\n",
    "> You may copy/paste the commands into the next code block.  You will need to update each INSERT statement to contain the names of your database and schema."
   ]
  },
  {
   "cell_type": "code",
   "execution_count": null,
   "metadata": {
    "vscode": {
     "languageId": "sql"
    }
   },
   "outputs": [],
   "source": [
    "INSERT INTO Sep2025JunkDB.nick_ohanlon.book(author_id, title, isbn, available, genre_id)\n",
    "VALUES (2, 'A Midsummers Night Dream', 978149413, 1, 23),\n",
    " (2, 'Romeo and Juliet', 988535196, 1, 3),\n",
    "(1, 'The Golden Compass', 451664226, 1, 1),\n",
    "(1, 'The Subtle Knife', 160419390, 1, 1),\n",
    "(1, 'The Amber Spyglass', 94387895, 1, 1),\n",
    "(3, 'The Alchemist', 464069772, 1, 2),\n",
    "(4, 'And Then There Were None', 335973357, 1, 6),\n",
    "(5, 'The Joy Luck Club', 990050329, 1, 10),\n",
    "(5, 'The Moon Lady', 91720786, 1, 24),\n",
    "(6, 'Sense and Sensibility', 156879860, 1, 2),\n",
    "(6, 'Northanger Abbey', 951273178, 1, 3),\n",
    "(6, 'Pride and Prejudice', 415886839, 1, 3),\n",
    "(6, 'Mansfield Park', 188534067, 1, 3),\n",
    "(6, 'Emma', 994896202, 1, 3),\n",
    "(6, 'Persuasion', 28150097, 1, 3),\n",
    "(6, 'Lady Susan', 230962926, 1, 3),\n",
    "(7, 'Wuthering Heights', 280569946, 1, 3),\n",
    "(8, 'The Handmaids Tale', 639239663, 1, 5),\n",
    "(8, 'The Testaments', 826875490, 1, 5),\n",
    "(9, 'The Parable of the Sower', 283359358, 1, 5),\n",
    "(10, 'Little Women', 495409887, 1, 23),\n",
    "(11, 'Still Life', 455128657, 1, 6),\n",
    "(11, 'A Fatal Grace', 832517012, 1, 6),\n",
    "(11, 'The Cruelest Month', 419285319, 1, 6),\n",
    "(11, 'The Murder Stone', 656621400, 1, 6),\n",
    "(11, 'The Brutal Telling', 144255852, 1, 6),\n",
    "(11, 'Bury Your Dead', 208180961, 1, 6),\n",
    "(11, 'A Trick of the Light', 93451531, 1, 6),\n",
    "(12, 'Midnights Children', 881082293, 1, 10),\n",
    "(13, 'Dont Let the Pigeon Drive the Bus!', 18409532, 1, 24),\n",
    "(14, 'Beezus and Ramona', 744412630, 1, 24),\n",
    "(15, 'Organic Chemistry', 604328803, 1, 25),\n",
    "(16, 'I Know Why the Caged Bird Sings', 909947112, 1, 12),\n",
    "(17, 'Beloved', 46736233, 1, 10),\n",
    "(18, 'Brassbones and Rainbows', 330608463, 1, 26);"
   ]
  },
  {
   "cell_type": "markdown",
   "metadata": {},
   "source": [
    "### Test your data\n",
    "                \n",
    "Run a quick query of your choice to see if the book table was properly created"
   ]
  },
  {
   "cell_type": "code",
   "execution_count": null,
   "metadata": {
    "vscode": {
     "languageId": "sql"
    }
   },
   "outputs": [],
   "source": [
    "1\t2\tA Midsummers Night Dream\t978149413\t1\t23\n",
    "2\t2\tRomeo and Juliet\t988535196\t1\t3\n",
    "3\t1\tThe Golden Compass\t451664226\t1\t1\n",
    "4\t1\tThe Subtle Knife\t160419390\t1\t1\n",
    "5\t1\tThe Amber Spyglass\t94387895\t1\t1\n",
    "6\t3\tThe Alchemist\t464069772\t1\t2\n",
    "7\t4\tAnd Then There Were None\t335973357\t1\t6\n",
    "8\t5\tThe Joy Luck Club\t990050329\t1\t10\n",
    "9\t5\tThe Moon Lady\t91720786\t1\t24\n",
    "10\t6\tSense and Sensibility\t156879860\t1\t2\n",
    "11\t6\tNorthanger Abbey\t951273178\t1\t3\n",
    "12\t6\tPride and Prejudice\t415886839\t1\t3\n",
    "13\t6\tMansfield Park\t188534067\t1\t3\n",
    "14\t6\tEmma\t994896202\t1\t3\n",
    "15\t6\tPersuasion\t28150097\t1\t3\n",
    "16\t6\tLady Susan\t230962926\t1\t3\n",
    "17\t7\tWuthering Heights\t280569946\t1\t3\n",
    "18\t8\tThe Handmaids Tale\t639239663\t1\t5\n",
    "19\t8\tThe Testaments\t826875490\t1\t5\n",
    "20\t9\tThe Parable of the Sower\t283359358\t1\t5\n",
    "21\t10\tLittle Women\t495409887\t1\t23\n",
    "22\t11\tStill Life\t455128657\t1\t6\n",
    "23\t11\tA Fatal Grace\t832517012\t1\t6\n",
    "24\t11\tThe Cruelest Month\t419285319\t1\t6\n",
    "25\t11\tThe Murder Stone\t656621400\t1\t6\n",
    "26\t11\tThe Brutal Telling\t144255852\t1\t6\n",
    "27\t11\tBury Your Dead\t208180961\t1\t6\n",
    "28\t11\tA Trick of the Light\t93451531\t1\t6\n",
    "29\t12\tMidnights Children\t881082293\t1\t10\n",
    "30\t13\tDont Let the Pigeon Drive the Bus!\t18409532\t1\t24\n",
    "31\t14\tBeezus and Ramona\t744412630\t1\t24\n",
    "32\t15\tOrganic Chemistry\t604328803\t1\t25\n",
    "33\t16\tI Know Why the Caged Bird Sings\t909947112\t1\t12\n",
    "34\t17\tBeloved\t46736233\t1\t10\n",
    "35\t18\tBrassbones and Rainbows\t330608463\t1\t26"
   ]
  },
  {
   "cell_type": "markdown",
   "metadata": {},
   "source": [
    "We will repeat a similar process for the **author, patron,** and **genre** tables. \n",
    "                \n",
    "### **Author Table**\n",
    "\n",
    "To create the **author** table, you will use the following code:\n",
    "\n",
    "```\n",
    "CREATE TABLE [DB].[schema].author (\n",
    "    author_id INT IDENTITY(1,1), PRIMARY KEY\n",
    "    first_name VARCHAR(255),\n",
    "    last_name VARCHAR(255),\n",
    "    birth_year INT,\n",
    "    death_year INT\n",
    ");\n",
    "```"
   ]
  },
  {
   "cell_type": "code",
   "execution_count": null,
   "metadata": {
    "vscode": {
     "languageId": "sql"
    }
   },
   "outputs": [],
   "source": [
    "-- create the author table here:"
   ]
  },
  {
   "cell_type": "markdown",
   "metadata": {},
   "source": [
    "Populate the **author** table with the `author_data.ipynb` notebook."
   ]
  },
  {
   "cell_type": "code",
   "execution_count": null,
   "metadata": {
    "vscode": {
     "languageId": "sql"
    }
   },
   "outputs": [],
   "source": [
    "-- paste the author data values in this code block."
   ]
  },
  {
   "cell_type": "markdown",
   "metadata": {},
   "source": [
    "### **Patron Table**\n",
    "\n",
    "To create the **patron**, you will use the following code:\n",
    "\n",
    "```\n",
    "CREATE TABLE [DB].[schema].patron (\n",
    "    patron_id INT IDENTITY (1,1) PRIMARY KEY,\n",
    "    first_name VARCHAR(255),\n",
    "    last_name VARCHAR(255),\n",
    "    loan_id INT\n",
    ");\n",
    "```"
   ]
  },
  {
   "cell_type": "code",
   "execution_count": null,
   "metadata": {
    "vscode": {
     "languageId": "sql"
    }
   },
   "outputs": [],
   "source": [
    "-- create the patron table here:"
   ]
  },
  {
   "cell_type": "markdown",
   "metadata": {},
   "source": [
    "Populate the **patron** table with the `patron_data.ipynb` notebook."
   ]
  },
  {
   "cell_type": "code",
   "execution_count": null,
   "metadata": {
    "vscode": {
     "languageId": "sql"
    }
   },
   "outputs": [],
   "source": [
    "-- insert patron data into the table here."
   ]
  },
  {
   "cell_type": "markdown",
   "metadata": {},
   "source": [
    "### **Genre Table**\n",
    "\n",
    "To create the **genre** table, use the following code:\n",
    "\n",
    "```\n",
    "CREATE TABLE [DB].[schema].genre (\n",
    "    genre_id INT PRIMARY KEY,\n",
    "    genres VARCHAR(100)\n",
    ");\n",
    "```"
   ]
  },
  {
   "cell_type": "code",
   "execution_count": null,
   "metadata": {
    "vscode": {
     "languageId": "sql"
    }
   },
   "outputs": [],
   "source": [
    "-- create genre table here."
   ]
  },
  {
   "cell_type": "markdown",
   "metadata": {},
   "source": [
    "Populate the **genre** table with the `genre_data.ipynb` notebook."
   ]
  },
  {
   "cell_type": "code",
   "execution_count": null,
   "metadata": {
    "vscode": {
     "languageId": "sql"
    }
   },
   "outputs": [],
   "source": [
    "-- insert the genre data into the table here."
   ]
  },
  {
   "cell_type": "markdown",
   "metadata": {},
   "source": [
    "### **Loan Table**\n",
    "\n",
    "The **loan** table will be created differently and will stay empty.  We will use our other tables to populate the loan table using queries shortly. \n",
    "\n",
    "Use the following code to create the **loan** table:\n",
    "\n",
    "```\n",
    "CREATE TABLE [DB].[schema].loan (\n",
    "    loan_id INT IDENTITY(1,1) PRIMARY KEY,\n",
    "    patron_id INT,\n",
    "    date_out DATE,\n",
    "    date_in DATE,\n",
    "    book_id INT\n",
    "    CONSTRAINT book_id FOREIGN KEY (book_id) REFERENCES [DB].[schema].book (book_id)\n",
    "        ON UPDATE SET NULL\n",
    "        ON DELETE SET NULL\n",
    ");\n",
    "```\n",
    "\n",
    "_Notes about the syntax:_\n",
    "\n",
    "> We are adding a [foreign key](https://www.w3schools.com/sql/sql_foreignkey.asp) to this table to reference a different table's primary key.  In this studio, we are going to link the **loan** table to the **book** table using keys.  The **loan** table will reference and add book id numbers based on the **book** table's `book_id`.  We are also providing [constraints](https://www.w3schools.com/sql/sql_constraints.asp) to be very specific about what type of data is allowed in this column."
   ]
  },
  {
   "cell_type": "code",
   "execution_count": null,
   "metadata": {
    "vscode": {
     "languageId": "sql"
    }
   },
   "outputs": [],
   "source": [
    "-- Code the loan table.\n",
    "-- Note that you will need to update the first and seventh lines with your database and schema info."
   ]
  },
  {
   "cell_type": "markdown",
   "metadata": {},
   "source": [
    "## **Part B: Warm-Up Queries**\n",
    "\n",
    "Write the following queries to get warmed up and make sure your tables have populated appropriately.\n",
    "\n",
    "1. Return the mystery book titles and their ISBNs.\n",
    "2. Return all of the titles and the author's first and last names for books written by authors who are currently living."
   ]
  },
  {
   "cell_type": "code",
   "execution_count": null,
   "metadata": {
    "vscode": {
     "languageId": "sql"
    }
   },
   "outputs": [],
   "source": [
    "-- Code your warm ups here:"
   ]
  },
  {
   "cell_type": "markdown",
   "metadata": {},
   "source": [
    "## **Part C: Loan Out a Book**\n",
    "                \n",
    "The library would like you to create a query that will update the database when a book is loaned out.\n",
    "\n",
    "This query needs to perform the following functions:\n",
    "\n",
    "1. Change **available** to **0** (false) for the appropriate book.\n",
    "2. Add a new row to the **loan** table with today's date as the `date_out` and the ids in the row matching the appropriate `patron_id` and `book_id`.\n",
    "3. Update the appropriate **patron** with the `loan_id` for the new row created in the **loan** table.\n",
    "\n",
    "You can use any patron and book that strikes your fancy to create and test out this query.\n",
    "\n",
    "> _Note:  Every time you test this, you will add an additional row to the output, creating a new loan id each time.  If you do not update the patron id, then a patron will have multiple loan ids.  This is not an issue for Part C;_ _however, this may cause issues when you work on Part F._"
   ]
  },
  {
   "cell_type": "code",
   "execution_count": null,
   "metadata": {
    "vscode": {
     "languageId": "sql"
    }
   },
   "outputs": [],
   "source": [
    "-- Create your query that will loan out a book:"
   ]
  },
  {
   "cell_type": "markdown",
   "metadata": {},
   "source": [
    "## **Part D: Check a Book Back In**\n",
    "\n",
    "Work with the same patron and book as you create your query to check a book back into the library.\n",
    "\n",
    "The check a book back in, your query need to do the following:\n",
    "\n",
    "1. Change **available** to **1** (true) for the appropriate book.\n",
    "2. Update the appropriate row in the **loan** table with today's date as the `date_in`.\n",
    "3. Update the appropriate **patron** changing `loan_id` back to `NULL`.\n",
    "\n",
    "Once you have created these queries, loan out 5 new books to 5 different patrons."
   ]
  },
  {
   "cell_type": "code",
   "execution_count": null,
   "metadata": {
    "vscode": {
     "languageId": "sql"
    }
   },
   "outputs": [],
   "source": [
    "-- Create your query to check a book back in."
   ]
  },
  {
   "cell_type": "markdown",
   "metadata": {},
   "source": [
    "## **Part E: Create a temp table**\n",
    "\n",
    "Write a query that returns a temporary table for a patron that shows them all of their loans.\n",
    "\n",
    "_Question to think about:_  Why might a temp table be a good option for this type of query?"
   ]
  },
  {
   "cell_type": "code",
   "execution_count": null,
   "metadata": {
    "vscode": {
     "languageId": "sql"
    }
   },
   "outputs": [],
   "source": [
    "-- Code your temp table here"
   ]
  },
  {
   "cell_type": "markdown",
   "metadata": {},
   "source": [
    "## **Part F: Wrap-up Query**\n",
    "\n",
    "Create a query that returns the names of the patrons with the genre of every book they currently have checked out.\n",
    "\n",
    "Things to consider:  How are these tables related and connected to each other?\n",
    "\n",
    "> _Note:  If you find a NULL in your output instead of a loan id, this is likely because there are multiple loans per patron.  Try_ _clearing out the loan table. You can do this by either dropping the entire table or clearing specific rows._"
   ]
  },
  {
   "cell_type": "code",
   "execution_count": null,
   "metadata": {
    "vscode": {
     "languageId": "sql"
    }
   },
   "outputs": [],
   "source": [
    "-- Create your wrap-up query here."
   ]
  },
  {
   "cell_type": "markdown",
   "metadata": {},
   "source": [
    "## **Bonus Challenge:**\n",
    "                \n",
    "This is an optional challenge.\n",
    "\n",
    "Create a new table for reference materials using the following code:\n",
    "\n",
    "```\n",
    "CREATE TABLE [DB].[schema].reference_books (\n",
    "    reference_id INT IDENTITY(1,1) PRIMARY KEY,\n",
    "    edition INT,\n",
    "    book_id INT,\n",
    "    book_id INT FOREIGN KEY REFERENCES [DB].[schema].book(book_id)\n",
    "        ON UPDATE SET NULL\n",
    "        ON DELETE SET NULL\n",
    ");\n",
    "```\n",
    "\n",
    "Fill the table with the following query:\n",
    "\n",
    "```\n",
    "INSERT INTO [DB].[schema].reference_books (edition, book_id)\n",
    "VALUE (5,32);\n",
    "```"
   ]
  },
  {
   "cell_type": "code",
   "execution_count": null,
   "metadata": {
    "vscode": {
     "languageId": "sql"
    }
   },
   "outputs": [],
   "source": [
    "-- Create and fill your reference table here."
   ]
  },
  {
   "cell_type": "markdown",
   "metadata": {},
   "source": [
    "A reference book cannot leave the library. How would you modify either the **reference_book** table or the **book** table to make sure that doesn't happen? Try to apply your modifications."
   ]
  },
  {
   "cell_type": "code",
   "execution_count": null,
   "metadata": {
    "vscode": {
     "languageId": "sql"
    }
   },
   "outputs": [],
   "source": [
    "-- Code your query here."
   ]
  }
 ],
 "metadata": {
  "language_info": {
   "name": "python"
  }
 },
 "nbformat": 4,
 "nbformat_minor": 2
}
